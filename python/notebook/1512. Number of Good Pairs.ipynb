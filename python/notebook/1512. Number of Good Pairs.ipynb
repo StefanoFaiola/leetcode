{
 "cells": [
  {
   "cell_type": "code",
   "execution_count": 1,
   "metadata": {},
   "outputs": [],
   "source": [
    "nums = [1,2,3,1,1,3]"
   ]
  },
  {
   "cell_type": "markdown",
   "metadata": {},
   "source": [
    "## Method 1\n",
    "Not efficient, use nested loops to compare each occurrence with next ones and count number of times the number is the same"
   ]
  },
  {
   "cell_type": "code",
   "execution_count": 8,
   "metadata": {},
   "outputs": [],
   "source": [
    "def good_pairs1(num_list: list[int]) -> int:\n",
    "    c = 0\n",
    "    for i in range(0, len(num_list)-1):\n",
    "        for j in range(i+1, len(num_list)):\n",
    "            if num_list[i] == num_list[j]:\n",
    "                c += 1\n",
    "    return c\n",
    "\n"
   ]
  },
  {
   "cell_type": "markdown",
   "metadata": {},
   "source": [
    "## Method 2\n",
    "Create a dictionary of frequencies and use n*(n-1)//2 for each number and sum them all to count number of good pairs"
   ]
  },
  {
   "cell_type": "code",
   "execution_count": 20,
   "metadata": {},
   "outputs": [],
   "source": [
    "def good_pairs2(num_list: list[int]) -> int:\n",
    "    c = 0\n",
    "    d = {}\n",
    "    for i in nums:\n",
    "        d.update({i : nums.count(i)})\n",
    "    for j in d:\n",
    "        c += d[j] * (d[j]-1) // 2\n",
    "    return c"
   ]
  }
 ],
 "metadata": {
  "kernelspec": {
   "display_name": "Python 3",
   "language": "python",
   "name": "python3"
  },
  "language_info": {
   "codemirror_mode": {
    "name": "ipython",
    "version": 3
   },
   "file_extension": ".py",
   "mimetype": "text/x-python",
   "name": "python",
   "nbconvert_exporter": "python",
   "pygments_lexer": "ipython3",
   "version": "3.11.3"
  }
 },
 "nbformat": 4,
 "nbformat_minor": 2
}

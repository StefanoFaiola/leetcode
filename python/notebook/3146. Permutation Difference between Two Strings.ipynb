{
 "cells": [
  {
   "cell_type": "markdown",
   "metadata": {},
   "source": [
    "# 3146. Permutation Difference between Two Strings"
   ]
  },
  {
   "cell_type": "code",
   "execution_count": 1,
   "metadata": {},
   "outputs": [],
   "source": [
    "s = 'abc'\n",
    "t = 'bac'"
   ]
  },
  {
   "cell_type": "code",
   "execution_count": 7,
   "metadata": {},
   "outputs": [
    {
     "data": {
      "text/plain": [
       "2"
      ]
     },
     "execution_count": 7,
     "metadata": {},
     "output_type": "execute_result"
    }
   ],
   "source": [
    "def findPermutationDifference(s: str, t: str) -> int:\n",
    "    s_map = {}\n",
    "    n = len(s)\n",
    "    sum = 0\n",
    "\n",
    "\n",
    "    for i in range(n):\n",
    "        s_map[s[i]] = i\n",
    "\n",
    "    counter = 0\n",
    "    for i in t:\n",
    "        sum += abs(counter - s_map[i])\n",
    "        counter +=1\n",
    "    return sum\n",
    "\n",
    "findPermutationDifference(s = s,t = t)"
   ]
  },
  {
   "cell_type": "code",
   "execution_count": null,
   "metadata": {},
   "outputs": [],
   "source": []
  }
 ],
 "metadata": {
  "kernelspec": {
   "display_name": "Python 3",
   "language": "python",
   "name": "python3"
  },
  "language_info": {
   "codemirror_mode": {
    "name": "ipython",
    "version": 3
   },
   "file_extension": ".py",
   "mimetype": "text/x-python",
   "name": "python",
   "nbconvert_exporter": "python",
   "pygments_lexer": "ipython3",
   "version": "3.11.3"
  }
 },
 "nbformat": 4,
 "nbformat_minor": 2
}
